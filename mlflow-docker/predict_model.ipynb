{
 "cells": [
  {
   "cell_type": "code",
   "execution_count": 1,
   "metadata": {},
   "outputs": [],
   "source": [
    "import mlflow\n",
    "import mlflow.pyfunc\n",
    "import pandas as pd\n"
   ]
  },
  {
   "cell_type": "code",
   "execution_count": 2,
   "metadata": {},
   "outputs": [],
   "source": [
    "# Set MLflow tracking URI\n",
    "mlflow.set_tracking_uri(\"http://localhost:5000\")\n",
    "\n",
    "# Replace <RUN_ID> with the run ID printed by the training code.\n",
    "run_id = \"<RUN_ID>\"  \n",
    "model_uri = f\"runs:/134278d1da014112acb561d8da3e01cf/model\""
   ]
  },
  {
   "cell_type": "code",
   "execution_count": 3,
   "metadata": {},
   "outputs": [
    {
     "name": "stderr",
     "output_type": "stream",
     "text": [
      "c:\\Users\\deric\\AppData\\Local\\Programs\\Python\\Python313\\Lib\\site-packages\\tqdm\\auto.py:21: TqdmWarning: IProgress not found. Please update jupyter and ipywidgets. See https://ipywidgets.readthedocs.io/en/stable/user_install.html\n",
      "  from .autonotebook import tqdm as notebook_tqdm\n",
      "Downloading artifacts: 100%|██████████| 6/6 [00:02<00:00,  2.90it/s]   \n"
     ]
    }
   ],
   "source": [
    "# Load the model.\n",
    "model = mlflow.pyfunc.load_model(model_uri)"
   ]
  },
  {
   "cell_type": "code",
   "execution_count": 5,
   "metadata": {},
   "outputs": [
    {
     "name": "stdout",
     "output_type": "stream",
     "text": [
      "Prediction: [1]\n"
     ]
    }
   ],
   "source": [
    "# Example input row (match your voice dataset columns)\n",
    "input_data = {\n",
    "    \"meanfreq\": [0.059781],\n",
    "    \"sd\": [0.064241],\n",
    "    \"median\": [0.056234],\n",
    "    \"Q25\": [0.033174],\n",
    "    \"Q75\": [0.078096],\n",
    "    \"IQR\": [0.044922],\n",
    "    \"skew\": [5.678234],\n",
    "    \"kurt\": [45.6789],\n",
    "    \"sp.ent\": [0.893213],\n",
    "    \"sfm\": [0.491234],\n",
    "    \"mode\": [0.038089],\n",
    "    \"centroid\": [0.059781],\n",
    "    \"meanfun\": [0.128],\n",
    "    \"minfun\": [0.090],\n",
    "    \"maxfun\": [0.279],\n",
    "    \"meandom\": [0.070],\n",
    "    \"mindom\": [0.007],\n",
    "    \"maxdom\": [0.170],\n",
    "    \"dfrange\": [0.163],\n",
    "    \"modindx\": [0.056]\n",
    "}\n",
    "\n",
    "df = pd.DataFrame(input_data)\n",
    "prediction = model.predict(df)\n",
    "print(\"Prediction:\", prediction)"
   ]
  },
  {
   "cell_type": "code",
   "execution_count": null,
   "metadata": {},
   "outputs": [],
   "source": []
  }
 ],
 "metadata": {
  "kernelspec": {
   "display_name": "Python 3",
   "language": "python",
   "name": "python3"
  },
  "language_info": {
   "codemirror_mode": {
    "name": "ipython",
    "version": 3
   },
   "file_extension": ".py",
   "mimetype": "text/x-python",
   "name": "python",
   "nbconvert_exporter": "python",
   "pygments_lexer": "ipython3",
   "version": "3.13.1"
  }
 },
 "nbformat": 4,
 "nbformat_minor": 2
}
