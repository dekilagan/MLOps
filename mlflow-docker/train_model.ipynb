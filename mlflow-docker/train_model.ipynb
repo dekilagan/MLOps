{
 "cells": [
  {
   "cell_type": "code",
   "execution_count": 112,
   "metadata": {},
   "outputs": [],
   "source": [
    "import mlflow\n",
    "import mlflow.pyfunc\n",
    "import pickle\n",
    "import pandas as pd\n",
    "from sklearn.model_selection import train_test_split\n",
    "from sklearn.ensemble import RandomForestClassifier\n",
    "from sklearn.metrics import accuracy_score\n",
    "import mlflow.sklearn"
   ]
  },
  {
   "cell_type": "code",
   "execution_count": 113,
   "metadata": {},
   "outputs": [
    {
     "name": "stderr",
     "output_type": "stream",
     "text": [
      "c:\\Users\\deric\\AppData\\Local\\Programs\\Python\\Python313\\Lib\\site-packages\\mlflow\\pyfunc\\utils\\data_validation.py:168: UserWarning: \u001b[33mAdd type hints to the `predict` method to enable data validation and automatic signature inference during model logging. Check https://mlflow.org/docs/latest/model/python_model.html#type-hint-usage-in-pythonmodel for more details.\u001b[0m\n",
      "  color_warning(\n"
     ]
    }
   ],
   "source": [
    "# Define a simple custom wrapper that uses pickle to load the model.\n",
    "class PickleWrapper(mlflow.pyfunc.PythonModel):\n",
    "    def load_context(self, context):\n",
    "        # Get the local path to the saved model artifact.\n",
    "        model_file = context.artifacts.get(\"model\")\n",
    "        with open(model_file, \"rb\") as f:\n",
    "            self.model = pickle.load(f)\n",
    "    def predict(self, context, model_input):\n",
    "        return self.model.predict(model_input)\n"
   ]
  },
  {
   "cell_type": "code",
   "execution_count": 114,
   "metadata": {},
   "outputs": [],
   "source": [
    "# Remove any function annotations to avoid cleanup errors.\n",
    "PickleWrapper.load_context.__annotations__ = {}\n",
    "PickleWrapper.predict.__annotations__ = {}"
   ]
  },
  {
   "cell_type": "code",
   "execution_count": 115,
   "metadata": {},
   "outputs": [
    {
     "data": {
      "text/plain": [
       "<Experiment: artifact_location='mlflow-artifacts:/906782352771345596', creation_time=1741919406139, experiment_id='906782352771345596', last_update_time=1741919406139, lifecycle_stage='active', name='Voice_Gender_Classification', tags={}>"
      ]
     },
     "execution_count": 115,
     "metadata": {},
     "output_type": "execute_result"
    }
   ],
   "source": [
    "# %%\n",
    "# Set the MLflow tracking URI.\n",
    "# If running locally, use 127.0.0.1; if in Docker network, use tracking_server\n",
    "mlflow.set_tracking_uri(\"http://localhost:5000\")\n",
    "# mlflow.set_tracking_uri(\"http://tracking_server:5000\")\n",
    "mlflow.set_experiment(\"Voice_Gender_Classification\")"
   ]
  },
  {
   "cell_type": "code",
   "execution_count": 116,
   "metadata": {},
   "outputs": [],
   "source": [
    "mlflow.sklearn.autolog()"
   ]
  },
  {
   "cell_type": "code",
   "execution_count": 117,
   "metadata": {},
   "outputs": [],
   "source": [
    "# %%\n",
    "# Load your voice dataset (ensure voice.csv is in the correct location)\n",
    "data = pd.read_csv(\"voice.csv\") "
   ]
  },
  {
   "cell_type": "code",
   "execution_count": 118,
   "metadata": {},
   "outputs": [],
   "source": [
    "# Preprocess the data\n",
    "X = data.drop(\"label\", axis=1)\n",
    "y = data[\"label\"].map({\"male\": 1, \"female\": 0})\n",
    "\n",
    "X_train, X_test, y_train, y_test = train_test_split(X, y, test_size=0.2, random_state=42)"
   ]
  },
  {
   "cell_type": "code",
   "execution_count": 119,
   "metadata": {},
   "outputs": [
    {
     "name": "stderr",
     "output_type": "stream",
     "text": [
      "2025/03/14 10:56:14 INFO mlflow.utils.autologging_utils: Created MLflow autologging run with ID '2585644fc58c4fe5966aa03b57e41d6b', which will track hyperparameters, performance metrics, model artifacts, and lineage information for the current sklearn workflow\n"
     ]
    },
    {
     "name": "stdout",
     "output_type": "stream",
     "text": [
      "🏃 View run crawling-dog-918 at: http://localhost:5000/#/experiments/906782352771345596/runs/2585644fc58c4fe5966aa03b57e41d6b\n",
      "🧪 View experiment at: http://localhost:5000/#/experiments/906782352771345596\n",
      "Accuracy: 0.9810725552050473\n"
     ]
    }
   ],
   "source": [
    "# %%\n",
    "# Train the model\n",
    "model = RandomForestClassifier(n_estimators=100, max_depth=10, random_state=42)\n",
    "model.fit(X_train, y_train)\n",
    "y_pred = model.predict(X_test)\n",
    "accuracy = accuracy_score(y_test, y_pred)\n",
    "\n",
    "print(\"Accuracy:\", accuracy)\n"
   ]
  },
  {
   "cell_type": "code",
   "execution_count": 120,
   "metadata": {},
   "outputs": [],
   "source": [
    "# Save the trained model using pickle\n",
    "with open(\"model.pkl\", \"wb\") as f:\n",
    "    pickle.dump(model, f)"
   ]
  },
  {
   "cell_type": "code",
   "execution_count": 121,
   "metadata": {},
   "outputs": [
    {
     "name": "stderr",
     "output_type": "stream",
     "text": [
      "Downloading artifacts: 100%|██████████| 1/1 [00:00<00:00, 2312.19it/s] \n",
      "2025/03/14 10:56:36 WARNING mlflow.models.model: Model logged without a signature and input example. Please set `input_example` parameter when logging the model to auto infer the model signature.\n"
     ]
    },
    {
     "name": "stdout",
     "output_type": "stream",
     "text": [
      "🏃 View run simple_run at: http://localhost:5000/#/experiments/906782352771345596/runs/134278d1da014112acb561d8da3e01cf\n",
      "🧪 View experiment at: http://localhost:5000/#/experiments/906782352771345596\n",
      "Model logged under run_id: 134278d1da014112acb561d8da3e01cf\n"
     ]
    }
   ],
   "source": [
    "# Log the model with MLflow using the custom PickleWrapper.\n",
    "with mlflow.start_run(run_name=\"simple_run\") as run:\n",
    "    mlflow.log_param(\"n_estimators\", 100)\n",
    "    mlflow.log_param(\"max_depth\", 10)\n",
    "    mlflow.log_metric(\"accuracy\", accuracy)\n",
    "    \n",
    "    mlflow.pyfunc.log_model(\n",
    "         artifact_path=\"model\",\n",
    "         python_model=PickleWrapper(),\n",
    "         artifacts={\"model\": \"model.pkl\"}\n",
    "    )\n",
    "    \n",
    "    run_id = run.info.run_id\n",
    "\n",
    "print(\"Model logged under run_id:\", run_id)"
   ]
  },
  {
   "cell_type": "code",
   "execution_count": null,
   "metadata": {},
   "outputs": [],
   "source": []
  }
 ],
 "metadata": {
  "kernelspec": {
   "display_name": "Python 3",
   "language": "python",
   "name": "python3"
  },
  "language_info": {
   "codemirror_mode": {
    "name": "ipython",
    "version": 3
   },
   "file_extension": ".py",
   "mimetype": "text/x-python",
   "name": "python",
   "nbconvert_exporter": "python",
   "pygments_lexer": "ipython3",
   "version": "3.13.1"
  }
 },
 "nbformat": 4,
 "nbformat_minor": 2
}
